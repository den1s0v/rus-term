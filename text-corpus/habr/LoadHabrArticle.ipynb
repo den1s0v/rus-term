{
 "cells": [
  {
   "cell_type": "code",
   "execution_count": 1,
   "metadata": {},
   "outputs": [],
   "source": [
    "import pickle\n",
    "# import os.path\n"
   ]
  },
  {
   "cell_type": "code",
   "execution_count": 2,
   "metadata": {},
   "outputs": [],
   "source": [
    "# with open('200394.pkl', mode='rb') as f:\n",
    "#\t doc = pickle.load(f)\n"
   ]
  },
  {
   "cell_type": "code",
   "execution_count": 3,
   "metadata": {},
   "outputs": [
    {
     "name": "stdout",
     "output_type": "stream",
     "text": [
      "loading: posts/104907.pkl\n"
     ]
    },
    {
     "data": {
      "text/plain": [
       "{'id': 104907, 'status': 'title_not_found'}"
      ]
     },
     "execution_count": 3,
     "metadata": {},
     "output_type": "execute_result"
    }
   ],
   "source": [
    "posts_dir = 'posts'\n",
    "\n",
    "def load_article(pid):\n",
    "    fpath = '{dir}/{pid}.pkl'.format(dir=posts_dir, pid=pid)\n",
    "    no_article_path = '{dir}/-{pid}.pkl'.format(dir=posts_dir, pid=pid)\n",
    "    print('loading:',fpath)\n",
    "    load_error = None\n",
    "    # try to load empty article & then existing article dump\n",
    "    for path in (no_article_path,fpath,):\n",
    "        try:\n",
    "            with open(path, mode='rb') as f:\n",
    "                return pickle.load(f)\n",
    "        except FileNotFoundError as e:\n",
    "            load_error = e\n",
    "    if load_error:\n",
    "        print(load_error)\n",
    "    return None        \n",
    "\n",
    "\n",
    "\n",
    "\n",
    "# load_article(113117)\n",
    "load_article(104907)\n"
   ]
  },
  {
   "cell_type": "code",
   "execution_count": null,
   "metadata": {},
   "outputs": [],
   "source": []
  }
 ],
 "metadata": {
  "kernelspec": {
   "display_name": "Python 3",
   "language": "python",
   "name": "python3"
  },
  "language_info": {
   "codemirror_mode": {
    "name": "ipython",
    "version": 3
   },
   "file_extension": ".py",
   "mimetype": "text/x-python",
   "name": "python",
   "nbconvert_exporter": "python",
   "pygments_lexer": "ipython3",
   "version": "3.6.7"
  }
 },
 "nbformat": 4,
 "nbformat_minor": 2
}
