{
 "cells": [
  {
   "cell_type": "markdown",
   "metadata": {},
   "source": [
    "https://pypi.org/project/texterra/"
   ]
  },
  {
   "cell_type": "code",
   "execution_count": 4,
   "metadata": {},
   "outputs": [
    {
     "name": "stdout",
     "output_type": "stream",
     "text": [
      "Collecting texterra\n",
      "  Downloading https://files.pythonhosted.org/packages/59/ca/88dfca18f705aff40309d0af6e512e8fc1a9c51b7befa4a01440ef97d25d/texterra-1.0.1-py2.py3-none-any.whl\n",
      "Requirement already satisfied: requests in /home/user/miniconda3/lib/python3.6/site-packages (from texterra) (2.19.1)\n",
      "Requirement already satisfied: six in /home/user/miniconda3/lib/python3.6/site-packages (from texterra) (1.11.0)\n",
      "Requirement already satisfied: certifi>=2017.4.17 in /home/user/miniconda3/lib/python3.6/site-packages (from requests->texterra) (2019.3.9)\n",
      "Requirement already satisfied: chardet<3.1.0,>=3.0.2 in /home/user/miniconda3/lib/python3.6/site-packages (from requests->texterra) (3.0.4)\n",
      "Requirement already satisfied: idna<2.8,>=2.5 in /home/user/miniconda3/lib/python3.6/site-packages (from requests->texterra) (2.6)\n",
      "Requirement already satisfied: urllib3<1.24,>=1.21.1 in /home/user/miniconda3/lib/python3.6/site-packages (from requests->texterra) (1.22)\n",
      "Installing collected packages: texterra\n",
      "Successfully installed texterra-1.0.1\n",
      "\u001b[33mYou are using pip version 19.0.3, however version 19.1 is available.\n",
      "You should consider upgrading via the 'pip install --upgrade pip' command.\u001b[0m\n"
     ]
    }
   ],
   "source": [
    "# ! conda install texterra -y  <-- error\n",
    "! pip install texterra\n"
   ]
  },
  {
   "cell_type": "code",
   "execution_count": 7,
   "metadata": {},
   "outputs": [
    {
     "name": "stdout",
     "output_type": "stream",
     "text": [
      "Help on module texterra.api in texterra:\r\n",
      "\r\n",
      "N\bNA\bAM\bME\bE\r\n",
      "    texterra.api - Tools for Natural Language Processing.\r\n",
      "\r\n",
      "C\bCL\bLA\bAS\bSS\bSE\bES\bS\r\n",
      "    texterra.utils.HttpBase(builtins.object)\r\n",
      "        API\r\n",
      "    \r\n",
      "    class A\bAP\bPI\bI(texterra.utils.HttpBase)\r\n",
      "     |  This class provides methods for natural language processing with Texterra REST via OpenAPI.\r\n",
      "     |  \r\n",
      "     |  Method resolution order:\r\n",
      "     |      API\r\n",
      "     |      texterra.utils.HttpBase\r\n",
      "     |      builtins.object\r\n",
      "     |  \r\n",
      "     |  Methods defined here:\r\n",
      "     |  \r\n",
      "     |  _\b__\b_i\bin\bni\bit\bt_\b__\b_(self, key=False, host=None)\r\n",
      "     |      Provide an API key to use the default Texterra version (v1).\r\n",
      "     |      For a different version of Texterra, specify a custom host.\r\n",
      "     |      \r\n",
      "     |      :type key: str\r\n",
      "     |      :type host: str\r\n",
      "     |  \r\n",
      "     |  d\bdi\bis\bsa\bam\bmb\bbi\big\bgu\bua\bat\bti\bio\bon\bn(self, texts, domain='', language='')\r\n",
      "     |      Detects the most appropriate meanings (concepts) for terms occurred in a given text.\r\n",
      "     |      \r\n",
      "     |      :param texts: the text to be disambiguated\r\n",
      "     |      :type texts: list(str) or str\r\n",
      "     |      :param domain: specifies texts' domain (auto-detect if not provided)\r\n",
      "     |      :type domain: str\r\n",
      "     |      :param language: texts' language ISO 639-1 code\r\n",
      "     |      :type language: str\r\n",
      "     |      :return: yields lists of tuples. Each tuple contains a term’s start, end indexes, value, and the link to\r\n",
      "     |               the corresponding article in KB.\r\n",
      "     |      :rtype: generator of list(tuple(int, int, str, str))\r\n",
      "     |  \r\n",
      "     |  k\bke\bey\by_\b_c\bco\bon\bnc\bce\bep\bpt\bts\bs(self, texts, domain='', language='')\r\n",
      "     |      Key concepts are the concepts providing short (conceptual) and informative text description.\r\n",
      "     |      This service extracts the key concepts for given texts.\r\n",
      "     |      \r\n",
      "     |      :param texts: the text to be analyzed\r\n",
      "     |      :type texts: list(str) or str\r\n",
      "     |      :param domain: specifies texts' domain (auto-detect if not provided)\r\n",
      "     |      :type domain: str\r\n",
      "     |      :param language: texts' language ISO 639-1 code\r\n",
      "     |      :type language: str\r\n",
      "     |      :return: yields lists of links to concepts' corresponding KB articles\r\n",
      "     |              sorted by concept weight in descending order\r\n",
      "     |      :rtype: generator of list(str)\r\n",
      "     |  \r\n",
      "     |  l\bla\ban\bng\bgu\bua\bag\bge\be_\b_d\bde\bet\bte\bec\bct\bti\bio\bon\bn(self, texts)\r\n",
      "     |      Detects given texts' language.\r\n",
      "     |      \r\n",
      "     |      :param texts: the texts to be language detected\r\n",
      "     |      :type texts: list(str) or str\r\n",
      "     |      :return: yields given texts' ISO 639-1 language codes\r\n",
      "     |      :rtype: str generator\r\n",
      "     |  \r\n",
      "     |  l\ble\bem\bmm\bma\bat\bti\biz\bza\bat\bti\bio\bon\bn(self, texts, rtype='full', domain='', language='')\r\n",
      "     |      Detects each word's lemma in given texts.\r\n",
      "     |      \r\n",
      "     |      :param texts: the texts to lemmatize\r\n",
      "     |      :type texts: list(str) or str\r\n",
      "     |      :param rtype: sets return type (the default is 'full'):\r\n",
      "     |                   - 'lemma': list(str), i.e. list of lemmas\r\n",
      "     |                   - 'annotation': list(tuple(int, int, str)), i.e. list of lemmas’ start, end indexes and value\r\n",
      "     |                   - 'full': list(tuple(int, int, str, str))\r\n",
      "     |      :type rtype: str\r\n",
      "     |      :param domain: specifies texts' domain (auto-detect if not provided)\r\n",
      "     |      :type domain: str\r\n",
      "     |      :param language: texts' language ISO 639-1 code\r\n",
      "     |      :type language: str\r\n",
      "     |      :return: yields lists of tuples, where each tuple contains a token’s start, end indexes, its value and lemma\r\n",
      "     |      :rtype: generator of list(tuple(int, int, str, str))\r\n",
      "     |  \r\n",
      "     |  n\bna\bam\bme\bed\bd_\b_e\ben\bnt\bti\bit\bti\bie\bes\bs(self, texts, rtype='full', domain='', language='')\r\n",
      "     |      Finds all named entities occurrences in given texts.\r\n",
      "     |      \r\n",
      "     |      :param texts: the text to be analyzed\r\n",
      "     |      :type texts: list(str) or str\r\n",
      "     |      :param rtype: sets return type (the default is 'full'):\r\n",
      "     |                   - 'entity': list(tuple(str, str)), i.e. list of named entities and their BBN categories\r\n",
      "     |                   - 'full': list(tuple(int, int, str, str))\r\n",
      "     |      :type rtype: str\r\n",
      "     |      :param domain: specifies texts' domain (auto-detect if not provided)\r\n",
      "     |      :type domain: str\r\n",
      "     |      :param language: texts' language ISO 639-1 code\r\n",
      "     |      :type language: str\r\n",
      "     |      :return: yields lists of tuples, where each tuple contains a named entity’s start, end indexes, value, and\r\n",
      "     |               BBN category\r\n",
      "     |      :rtype: generator of list(tuple(int, int, str, str))\r\n",
      "     |  \r\n",
      "     |  p\bpo\bol\bla\bar\bri\bit\bty\by_\b_d\bde\bet\bte\bec\bct\bti\bio\bon\bn(self, texts, domain='', language='')\r\n",
      "     |      Detects whether given texts have positive, negative, or no sentiment, with respect to domain.\r\n",
      "     |      If domain isn't provided, domain detection is applied, this way method tries to achieve best results.\r\n",
      "     |      If no domain is detected general domain algorithm is applied.\r\n",
      "     |      This method only accepts texts that are not empty and contain at least one non-whitespace character.\r\n",
      "     |      \r\n",
      "     |      :param texts: the texts to be analyzed\r\n",
      "     |      :type texts: list(str) or str\r\n",
      "     |      :param domain: domain\r\n",
      "     |      :type domain: str\r\n",
      "     |      :param language: texts' language ISO 639-1 code\r\n",
      "     |      :type language: str\r\n",
      "     |      :return: yields tuples containing a text's polarity and domain.\r\n",
      "     |      :rtype: generator of tuple(str, str)\r\n",
      "     |  \r\n",
      "     |  p\bpo\bos\bs_\b_t\bta\bag\bgg\bgi\bin\bng\bg(self, texts, rtype='full', domain='', language='')\r\n",
      "     |      Detects each token's part of speech tag in given texts.\r\n",
      "     |      The method uses the Penn Treebank tagset for English, and SynTagRus tags for Russian.\r\n",
      "     |      \r\n",
      "     |      :param texts: the text to be pos-tagged\r\n",
      "     |      :type texts: list(str) or str\r\n",
      "     |      :param rtype: sets return type (the default is 'full'):\r\n",
      "     |                   - 'token': list(tuple(str, str)), i.e. list of detected tokens and their tags\r\n",
      "     |                   - 'annotation': list(tuple(int, int, str)), i.e. list of tokens’ start, end indexes and tag\r\n",
      "     |                   - 'full': list(tuple(int, int, str, str))\r\n",
      "     |      :type rtype: str\r\n",
      "     |      :param domain: specifies texts' domain (auto-detect if not provided)\r\n",
      "     |      :type domain: str\r\n",
      "     |      :param language: texts' language ISO 639-1 code\r\n",
      "     |      :type language: str\r\n",
      "     |      :return: yields lists of tuples, where each tuple contains a token’s start, end indexes, value, and tag\r\n",
      "     |      :rtype: generator of list(tuple(int, int, str, str))\r\n",
      "     |  \r\n",
      "     |  s\bse\ben\bnt\bte\ben\bnc\bce\be_\b_d\bde\bet\bte\bec\bct\bti\bio\bon\bn(self, texts, rtype='full', domain='', language='')\r\n",
      "     |      Detects boundaries of sentences in given texts.\r\n",
      "     |      \r\n",
      "     |      :param texts: the texts to be sentence tokenized\r\n",
      "     |      :type texts: list(str) or str\r\n",
      "     |      :param rtype: sets return type (the default is 'full'):\r\n",
      "     |                   - 'sentence': list(str), i.e. list of detected sentences\r\n",
      "     |                   - 'annotation': list(tuple(int, int)), i.e. list of detected sentences' start, end indexes\r\n",
      "     |                   - 'full': list(tuple(int, int, str))\r\n",
      "     |      :type rtype: str\r\n",
      "     |      :param domain: specifies texts' domain (auto-detect if not provided)\r\n",
      "     |      :type domain: str\r\n",
      "     |      :param language: texts' language ISO 639-1 code\r\n",
      "     |      :type language: str\r\n",
      "     |      :return: yields lists of tuples, where tuple contains a sentence's start, end indexes and its value\r\n",
      "     |      :rtype: generator of list(tuple(int, int, str))\r\n",
      "     |  \r\n",
      "     |  s\bsp\bpe\bel\bll\bli\bin\bng\bg_\b_c\bco\bor\brr\bre\bec\bct\bti\bio\bon\bn(self, texts, rtype='full', domain='', language='')\r\n",
      "     |      Tries to correct spelling errors in given texts.\r\n",
      "     |      \r\n",
      "     |      :param texts: the text to be corrected\r\n",
      "     |      :type texts: list(str) or str\r\n",
      "     |      :param rtype: sets return type (the default is 'full'):\r\n",
      "     |                   - 'token': list(tuple(str, str)), i.e. list of tokens and their corrections\r\n",
      "     |                   - 'annotation': list(tuple(int, int, str)), i.e. list of tokens’ start, end indexes and correction\r\n",
      "     |                   - 'full': list(tuple(int, int, str, str))\r\n",
      "     |      :type rtype: str\r\n",
      "     |      :param domain: specifies texts' domain (auto-detect if not provided)\r\n",
      "     |      :type domain: str\r\n",
      "     |      :param language: texts' language ISO 639-1 code\r\n",
      "     |      :type language: str\r\n",
      "     |      :return: yields lists of tuples, where each tuple contains a token’s start, end indexes,\r\n",
      "     |              its value and correction\r\n",
      "     |      :rtype: generator of list(tuple(int, int, str, str))\r\n",
      "     |  \r\n",
      "     |  s\bsu\bub\bbj\bje\bec\bct\bti\biv\bvi\bit\bty\by_\b_d\bde\bet\bte\bec\bct\bti\bio\bon\bn(self, texts, domain='', language='')\r\n",
      "     |      Detects for each of the given texts if it is subjective or not.\r\n",
      "     |      \r\n",
      "     |      :param texts: the texts to be analyzed\r\n",
      "     |      :type texts: list(str) or str\r\n",
      "     |      :param domain: specifies texts' domain (auto-detect if not provided)\r\n",
      "     |      :type domain: str\r\n",
      "     |      :param language: texts' language ISO 639-1 code\r\n",
      "     |      :type language: str\r\n",
      "     |      :return: yields True for subjective texts, otherwise False.\r\n",
      "     |      :rtype: bool generator\r\n",
      "     |  \r\n",
      "     |  s\bsy\byn\bnt\bta\bax\bx_\b_d\bde\bet\bte\bec\bct\bti\bio\bon\bn(self, sentences, domain='', language='')\r\n",
      "     |      This method detects syntax relations in given sentences. It uses the Penn Treebank labels for English,\r\n",
      "     |      and SynTagRus labels for Russian.\r\n",
      "     |      For sentences that are empty or contain only whitespace characters, None is returned.\r\n",
      "     |      \r\n",
      "     |      :param sentences: the sentences to be parsed\r\n",
      "     |      :type sentences: list(str) or str\r\n",
      "     |      :param domain: domain\r\n",
      "     |      :type domain: str\r\n",
      "     |      :param language: texts' language ISO 639-1 code\r\n",
      "     |      :type language: str\r\n",
      "     |      :return: yields a SyntaxTree instance for each sentence\r\n",
      "     |      :rtype: generator of SyntaxTree\r\n",
      "     |  \r\n",
      "     |  t\bto\bok\bke\ben\bni\biz\bza\bat\bti\bio\bon\bn(self, texts, rtype='full', domain='', language='')\r\n",
      "     |      Detects all tokens (minimal significant text parts) in given texts.\r\n",
      "     |      \r\n",
      "     |      :param texts: the texts to be tokenized.\r\n",
      "     |      :type texts: list(str) or str\r\n",
      "     |      :param rtype: sets return type (the default is 'full'):\r\n",
      "     |                  - 'token': list(str), i.e. list of detected tokens\r\n",
      "     |                  - 'annotation': list(tuple(int, int)), i.e. list of detected tokens' start, end indexes\r\n",
      "     |                  - 'full': list(tuple(int, int, str))\r\n",
      "     |      :type rtype: str\r\n",
      "     |      :param domain: specifies texts' domain (auto-detect if not provided)\r\n",
      "     |      :type domain: str\r\n",
      "     |      :param language: texts' language ISO 639-1 code\r\n",
      "     |      :type language: str\r\n",
      "     |      :return: yields lists of tuples, where each tuple contains a token's start, end indexes and its value.\r\n",
      "     |      :rtype: generator of list(tuple(int, int, str))\r\n",
      "     |  \r\n",
      "     |  ----------------------------------------------------------------------\r\n",
      "     |  Data and other attributes defined here:\r\n",
      "     |  \r\n",
      "     |  m\bma\bax\bx_\b_b\bba\bat\btc\bch\bh_\b_s\bsi\biz\bze\be = 1000000\r\n",
      "     |  \r\n",
      "     |  t\bte\bex\bxt\bte\ber\brr\bra\ba_\b_u\bur\brl\bl = 'https://api.ispras.ru/texterra/v1/'\r\n",
      "     |  \r\n",
      "     |  t\bte\bex\bxt\bte\ber\brr\bra\ba_\b_v\bve\ber\brs\bsi\bio\bon\bn = 'v1'\r\n",
      "     |  \r\n",
      "     |  ----------------------------------------------------------------------\r\n",
      "     |  Methods inherited from texterra.utils.HttpBase:\r\n",
      "     |  \r\n",
      "     |  c\bcu\bus\bst\bto\bom\bm_\b_q\bqu\bue\ber\bry\by(self, path, params, json=None)\r\n",
      "     |  \r\n",
      "     |  g\bge\bet\bt(self, path, params)\r\n",
      "     |      Method for invoking API GET request\r\n",
      "     |  \r\n",
      "     |  p\bpo\bos\bst\bt(self, path, params, json)\r\n",
      "     |      Method for invoking API POST request\r\n",
      "     |  \r\n",
      "     |  ----------------------------------------------------------------------\r\n",
      "     |  Data descriptors inherited from texterra.utils.HttpBase:\r\n",
      "     |  \r\n",
      "     |  _\b__\b_d\bdi\bic\bct\bt_\b__\b_\r\n",
      "     |      dictionary for instance variables (if defined)\r\n",
      "     |  \r\n",
      "     |  _\b__\b_w\bwe\bea\bak\bkr\bre\bef\bf_\b__\b_\r\n",
      "     |      list of weak references to the object (if defined)\r\n",
      "\r\n",
      "F\bFI\bIL\bLE\bE\r\n",
      "    /home/user/miniconda3/lib/python3.6/site-packages/texterra/api.py\r\n",
      "\r\n",
      "\r\n"
     ]
    }
   ],
   "source": [
    "!pydoc texterra.api"
   ]
  },
  {
   "cell_type": "markdown",
   "metadata": {},
   "source": [
    "https://api.ispras.ru/my_keys\n",
    "    \n",
    "    Value\tStatus\tService\tCreated at\n",
    "aaa4b54666b7487b01d9a9cd53ff0765a1db37de\tActive\ttexterra/v1\t24 April 2019"
   ]
  },
  {
   "cell_type": "code",
   "execution_count": 5,
   "metadata": {},
   "outputs": [
    {
     "data": {
      "text/plain": [
       "<texterra.api.API at 0x7fc31ff66b70>"
      ]
     },
     "execution_count": 5,
     "metadata": {},
     "output_type": "execute_result"
    }
   ],
   "source": [
    "import texterra\n",
    "MYUSERKEY = 'aaa4b54666b7487b01d9a9cd53ff0765a1db37de'\n",
    "t = texterra.API(MYUSERKEY)\n",
    "\n",
    "t"
   ]
  },
  {
   "cell_type": "code",
   "execution_count": 11,
   "metadata": {},
   "outputs": [],
   "source": [
    "text = \"\"\"Вы можете пойти дальше и выделить вызовы методов  строителя в отдельный класс, называемый «Директором». В  этом случае директор будет задавать порядок шагов  строительства, а строитель — выполнять их. \n",
    "Директор знает, какие шаги должен выполнить объект-Строитель, чтобы  произвести продукт. \n",
    "Отдельный класс директора не является строго  обязательным. Вы можете вызывать методы строителя и  напрямую из клиентского кода. Тем не менее, директор полезен, если у вас есть несколько способов  конструирования продуктов, отличающихся порядком и  наличием шагов конструирования. В этом случае, вы  сможете объединить всю эту логику в одном классе. \n",
    "Такая структура классов полностью скроет от клиентского  кода процесс конструирования объектов. Клиенту останется  только привязать желаемого строителя к директору, а затем  получить у строителя готовый результат. \n",
    "1. Интерфейс строителя объявляет шаги конструирования  продуктов, общие для всех видов строителей. \n",
    "2.  Конкретные строители реализуют строительные шаги,  каждый по-своему. Конкретные строители могут  производить разнородные объекты, не имеющие общего  интерфейса.  3.  Продукт — создаваемый объект. Продукты, сделанные  разными строителями, не обязаны иметь общий интерфейс.  4.  Директор определяет порядок вызова строительных шагов  для производства той или иной конфигурации объектов.  5.  Обычно, Клиент подаёт в конструктор директора уже  готовый объект-строитель, и в дальнейшем данный  директор использует только его. Но возможен и другой  вариант, когда клиент передаёт строителя через параметр  строительного метода директора. В этом случае можно  каждый раз применять разных строителей для  производства различных представлений объектов.\"\"\""
   ]
  },
  {
   "cell_type": "code",
   "execution_count": 17,
   "metadata": {},
   "outputs": [
    {
     "data": {
      "text/plain": [
       "['http://ru.m.wikipedia.org/wiki/%D0%91%D1%83%D0%BB%D0%B0%D1%82_%28%D1%84%D1%83%D1%82%D0%B1%D0%BE%D0%BB%D1%8C%D0%BD%D1%8B%D0%B9_%D0%BA%D0%BB%D1%83%D0%B1%2C_%D0%A7%D0%B5%D1%80%D0%B5%D0%BF%D0%BE%D0%B2%D0%B5%D1%86%29',\n",
       " 'http://ru.m.wikipedia.org/wiki/%D0%9E%D0%B1%D1%8A%D0%B5%D0%BA%D1%82_%28%D0%BF%D1%80%D0%BE%D0%B3%D1%80%D0%B0%D0%BC%D0%BC%D0%B8%D1%80%D0%BE%D0%B2%D0%B0%D0%BD%D0%B8%D0%B5%29',\n",
       " 'http://ru.m.wikipedia.org/wiki/%D0%98%D0%BD%D1%82%D0%B5%D1%80%D1%84%D0%B5%D0%B9%D1%81']"
      ]
     },
     "execution_count": 17,
     "metadata": {},
     "output_type": "execute_result"
    }
   ],
   "source": [
    "# key_concepts(self, texts, domain='', language='')\n",
    "concepts = t.key_concepts(text,language='ru')\n",
    "\n",
    "concept_urls = list(concepts)[0]\n",
    "concept_urls"
   ]
  },
  {
   "cell_type": "code",
   "execution_count": 24,
   "metadata": {},
   "outputs": [],
   "source": [
    "import requests\n",
    "import re\n"
   ]
  },
  {
   "cell_type": "code",
   "execution_count": 25,
   "metadata": {},
   "outputs": [
    {
     "data": {
      "text/plain": [
       "'Объект (программирование)'"
      ]
     },
     "execution_count": 25,
     "metadata": {},
     "output_type": "execute_result"
    }
   ],
   "source": [
    "wiki_title_re = re.compile('\"wgTitle\":\"(.+?)\",\"', re.I)\n",
    "    \n",
    "def wiki_title(wiki_url):\n",
    "    r = requests.get(wiki_url)\n",
    "    return wiki_title_re.search(r.text).group(1)\n",
    "\n",
    "wiki_title(concept_urls[1])"
   ]
  },
  {
   "cell_type": "code",
   "execution_count": 30,
   "metadata": {},
   "outputs": [
    {
     "name": "stdout",
     "output_type": "stream",
     "text": [
      "Булат (футбольный клуб, Череповец)\n",
      "Объект (программирование)\n",
      "Интерфейс\n"
     ]
    }
   ],
   "source": [
    "for c in list(map(wiki_title, concept_urls)):\n",
    "    print(c)"
   ]
  },
  {
   "cell_type": "code",
   "execution_count": null,
   "metadata": {},
   "outputs": [],
   "source": []
  }
 ],
 "metadata": {
  "kernelspec": {
   "display_name": "Python 3",
   "language": "python",
   "name": "python3"
  },
  "language_info": {
   "codemirror_mode": {
    "name": "ipython",
    "version": 3
   },
   "file_extension": ".py",
   "mimetype": "text/x-python",
   "name": "python",
   "nbconvert_exporter": "python",
   "pygments_lexer": "ipython3",
   "version": "3.6.7"
  }
 },
 "nbformat": 4,
 "nbformat_minor": 2
}
