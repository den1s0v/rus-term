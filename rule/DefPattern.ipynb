{
 "cells": [
  {
   "cell_type": "code",
   "execution_count": 3,
   "metadata": {},
   "outputs": [],
   "source": [
    "import re"
   ]
  },
  {
   "cell_type": "code",
   "execution_count": 74,
   "metadata": {
    "scrolled": false
   },
   "outputs": [
    {
     "name": "stdout",
     "output_type": "stream",
     "text": [
      "16 definition patterns found\n"
     ]
    },
    {
     "data": {
      "text/plain": [
       "['T? - это Т?',\n",
       " 'T? есть Т?',\n",
       " 'T? представляет собой Т?',\n",
       " 'Т? является Т?',\n",
       " 'T? называется T?',\n",
       " 'T? называют T?',\n",
       " 'T? будем называть T?',\n",
       " 'T? считается T?',\n",
       " 'T? считают T?',\n",
       " 'T? будем считать T?',\n",
       " 'Т определяется',\n",
       " 'рассмотрим Т?',\n",
       " 'термин Т',\n",
       " 'термином Т',\n",
       " 'понятие Т',\n",
       " 'понятием Т']"
      ]
     },
     "execution_count": 74,
     "metadata": {},
     "output_type": "execute_result"
    }
   ],
   "source": [
    "re_hash_comment = re.compile(r\"\\s*#.*$\")  # no MULTILINE option\n",
    "\n",
    "def load_hash_commented_file(filename, keep_empty_lines=False, cut_eol_comment=False):\n",
    "    \"\"\" get list of lines (strings) \"\"\"\n",
    "    lines = []\n",
    "    with open(filename) as f:\n",
    "        for line in f:\n",
    "            if re_hash_comment.match(line):\n",
    "                continue # commented line\n",
    "            if cut_eol_comment:  # and re_hash_comment.search(line):\n",
    "                line = re_hash_comment.sub(\"\", line)\n",
    "            if line.endswith('\\n'):\n",
    "                line = line[:-1] # strip last char\n",
    "            if not keep_empty_lines and not line:\n",
    "                continue # empty line\n",
    "            lines.append(line)\n",
    "    return lines\n",
    "\n",
    "def_patterns = load_hash_commented_file(def_patt_file, cut_eol_comment=True)\n",
    "print(len(def_patterns), 'definition patterns found')\n",
    "def_patterns"
   ]
  },
  {
   "cell_type": "code",
   "execution_count": 67,
   "metadata": {},
   "outputs": [],
   "source": [
    "T_CYR = 'Т'\n",
    "T_LAT = 'T'\n",
    "T_OPT = 'T?' # lat T"
   ]
  },
  {
   "cell_type": "code",
   "execution_count": 68,
   "metadata": {},
   "outputs": [
    {
     "data": {
      "text/plain": [
       "['рассмотрим T']"
      ]
     },
     "execution_count": 68,
     "metadata": {},
     "output_type": "execute_result"
    }
   ],
   "source": [
    "re_T = re.compile(r'\\b'+('|'.join((T_CYR,T_LAT)))+r'\\b')\n",
    "\n",
    "def extend_definition_pattern(ptt_str):\n",
    "    \"\"\"\n",
    "        Преобразует подстановки вида 'Т?' в ptt_str, заменяя на Т иил убирая вовсе.\n",
    "        В результате списком выдаются все варианты подстановок, в которых есть хотя бы одна Т.\n",
    "        * Все Т на выходе - латинские, на входе допускаются обе: лат. и кириллицей (но только заглавные!).\n",
    "    \"\"\"\n",
    "    ptt_str = re_T.sub(T_LAT, ptt_str)\n",
    "    \n",
    "    opt_num = ptt_str.count(T_OPT)\n",
    "    pure_T_num = ptt_str.count(T_LAT) - opt_num\n",
    "    #     print(pure_T_num)\n",
    "    if opt_num == 0 | opt_num == 1 & pure_T_num == 0:\n",
    "        return [ptt_str.replace(T_OPT, T_LAT)] # unique combination available\n",
    "    \n",
    "    pieces = ptt_str.split(T_OPT)\n",
    "    ptts = []\n",
    "    start_k = (1  if pure_T_num == 0 else  0)\n",
    "    for k in range(start_k, 2**opt_num): # iterate over all combinations, but if there`s no pure T, exclude the first 1 (fully empty)\n",
    "        opts = [k & (1<<i) for i in range(opt_num)]\n",
    "        ptt = pieces[0]\n",
    "        for i in range(opt_num):\n",
    "            ptt += (T_LAT if opts[i] else '') + pieces[i+1]\n",
    "        ptts.append(ptt.strip())\n",
    "        \n",
    "    return ptts\n",
    "    \n",
    "extend_definition_pattern(def_patterns[4])"
   ]
  },
  {
   "cell_type": "code",
   "execution_count": 75,
   "metadata": {},
   "outputs": [
    {
     "name": "stdout",
     "output_type": "stream",
     "text": [
      "36 definition patterns got\n"
     ]
    },
    {
     "data": {
      "text/plain": [
       "['T - это',\n",
       " '- это T',\n",
       " 'T - это T',\n",
       " 'T есть',\n",
       " 'есть T',\n",
       " 'T есть T',\n",
       " 'T представляет собой',\n",
       " 'представляет собой T',\n",
       " 'T представляет собой T',\n",
       " 'T является',\n",
       " 'является T',\n",
       " 'T является T',\n",
       " 'T называется',\n",
       " 'называется T',\n",
       " 'T называется T',\n",
       " 'T называют',\n",
       " 'называют T',\n",
       " 'T называют T',\n",
       " 'T будем называть',\n",
       " 'будем называть T',\n",
       " 'T будем называть T',\n",
       " 'T считается',\n",
       " 'считается T',\n",
       " 'T считается T',\n",
       " 'T считают',\n",
       " 'считают T',\n",
       " 'T считают T',\n",
       " 'T будем считать',\n",
       " 'будем считать T',\n",
       " 'T будем считать T',\n",
       " 'T определяется',\n",
       " 'рассмотрим T',\n",
       " 'термин T',\n",
       " 'термином T',\n",
       " 'понятие T',\n",
       " 'понятием T']"
      ]
     },
     "execution_count": 75,
     "metadata": {},
     "output_type": "execute_result"
    }
   ],
   "source": [
    "def extend_definition_patterns(ptt_list):\n",
    "    res_list = []\n",
    "    for ptt_str in ptt_list:\n",
    "        res_list.extend( extend_definition_pattern(ptt_str) )\n",
    "    return res_list\n",
    "        \n",
    "\n",
    "def_patterns2 = extend_definition_patterns(def_patterns)\n",
    "print(len(def_patterns2), 'definition patterns got')\n",
    "def_patterns2"
   ]
  },
  {
   "cell_type": "code",
   "execution_count": 71,
   "metadata": {},
   "outputs": [
    {
     "data": {
      "text/plain": [
       "True"
      ]
     },
     "execution_count": 71,
     "metadata": {},
     "output_type": "execute_result"
    }
   ],
   "source": [
    "True | False"
   ]
  },
  {
   "cell_type": "code",
   "execution_count": null,
   "metadata": {},
   "outputs": [],
   "source": []
  },
  {
   "cell_type": "code",
   "execution_count": 63,
   "metadata": {},
   "outputs": [
    {
     "data": {
      "text/plain": [
       "False"
      ]
     },
     "execution_count": 63,
     "metadata": {},
     "output_type": "execute_result"
    }
   ],
   "source": [
    "True & False"
   ]
  },
  {
   "cell_type": "code",
   "execution_count": 29,
   "metadata": {},
   "outputs": [
    {
     "data": {
      "text/plain": [
       "1"
      ]
     },
     "execution_count": 29,
     "metadata": {},
     "output_type": "execute_result"
    }
   ],
   "source": [
    "5 & 3"
   ]
  },
  {
   "cell_type": "code",
   "execution_count": null,
   "metadata": {},
   "outputs": [],
   "source": []
  }
 ],
 "metadata": {
  "kernelspec": {
   "display_name": "Python 3",
   "language": "python",
   "name": "python3"
  },
  "language_info": {
   "codemirror_mode": {
    "name": "ipython",
    "version": 3
   },
   "file_extension": ".py",
   "mimetype": "text/x-python",
   "name": "python",
   "nbconvert_exporter": "python",
   "pygments_lexer": "ipython3",
   "version": "3.6.7"
  }
 },
 "nbformat": 4,
 "nbformat_minor": 2
}
